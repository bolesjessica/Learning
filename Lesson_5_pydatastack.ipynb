{
 "cells": [
  {
   "cell_type": "code",
   "execution_count": 26,
   "id": "2c2c518d",
   "metadata": {},
   "outputs": [],
   "source": [
    "import numpy as np\n",
    "import pandas as pd"
   ]
  },
  {
   "cell_type": "code",
   "execution_count": 27,
   "id": "2defb424",
   "metadata": {},
   "outputs": [],
   "source": [
    "x = np.array ([[1,2,3,4,5],\n",
    "               [6,7,8,0,10],\n",
    "               [11,12,13,14,15],\n",
    "               [21,22,23,24,25]])"
   ]
  },
  {
   "cell_type": "code",
   "execution_count": 28,
   "id": "a41e2d14",
   "metadata": {},
   "outputs": [
    {
     "name": "stdout",
     "output_type": "stream",
     "text": [
      "[ 3  8 13 23]\n"
     ]
    }
   ],
   "source": [
    "print(x[:, 2]) # return only the third column of x"
   ]
  },
  {
   "cell_type": "code",
   "execution_count": 29,
   "id": "6565a2c4",
   "metadata": {},
   "outputs": [
    {
     "name": "stdout",
     "output_type": "stream",
     "text": [
      "[3]\n"
     ]
    }
   ],
   "source": [
    "print(x[:1,2]) # return the element at row 2, column 3"
   ]
  },
  {
   "cell_type": "code",
   "execution_count": 30,
   "id": "07c92d70",
   "metadata": {},
   "outputs": [
    {
     "name": "stdout",
     "output_type": "stream",
     "text": [
      "[21 22 23 24 25]\n"
     ]
    }
   ],
   "source": [
    "print(x[3,:]) #return only row 4 of x"
   ]
  },
  {
   "cell_type": "code",
   "execution_count": 35,
   "id": "cc4e12c3",
   "metadata": {},
   "outputs": [
    {
     "name": "stdout",
     "output_type": "stream",
     "text": [
      "[11 12 13 14 15]\n"
     ]
    }
   ],
   "source": [
    "print(x[2,:])  #return the 3rd row of x, but only every other element- also called stride = 2\n",
    "stride =2\n"
   ]
  },
  {
   "cell_type": "code",
   "execution_count": null,
   "id": "c7574936",
   "metadata": {},
   "outputs": [],
   "source": []
  }
 ],
 "metadata": {
  "kernelspec": {
   "display_name": "Python 3",
   "language": "python",
   "name": "python3"
  },
  "language_info": {
   "codemirror_mode": {
    "name": "ipython",
    "version": 3
   },
   "file_extension": ".py",
   "mimetype": "text/x-python",
   "name": "python",
   "nbconvert_exporter": "python",
   "pygments_lexer": "ipython3",
   "version": "3.8.8"
  }
 },
 "nbformat": 4,
 "nbformat_minor": 5
}
