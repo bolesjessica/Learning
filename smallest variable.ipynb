{
 "cells": [
  {
   "cell_type": "code",
   "execution_count": 1,
   "id": "21a6d155",
   "metadata": {},
   "outputs": [],
   "source": [
    "import numpy as np"
   ]
  },
  {
   "cell_type": "code",
   "execution_count": 2,
   "id": "7849e703",
   "metadata": {},
   "outputs": [],
   "source": [
    "smallest = None"
   ]
  },
  {
   "cell_type": "code",
   "execution_count": 3,
   "id": "cdd75eac",
   "metadata": {},
   "outputs": [
    {
     "name": "stdout",
     "output_type": "stream",
     "text": [
      "Before: None\n"
     ]
    }
   ],
   "source": [
    "print(\"Before:\", smallest)"
   ]
  },
  {
   "cell_type": "code",
   "execution_count": 5,
   "id": "866f7aad",
   "metadata": {},
   "outputs": [
    {
     "name": "stdout",
     "output_type": "stream",
     "text": [
      "Loop: 3 3\n",
      "Loop: 41 3\n",
      "Loop: 12 3\n",
      "Loop: 9 3\n",
      "Loop: 74 3\n",
      "Loop: 15 3\n",
      "smallest: 3\n"
     ]
    }
   ],
   "source": [
    "for itervar in [3,41,12,9,74,15]:\n",
    "    if smallest is None or itervar < smallest:\n",
    "        smallest = itervar\n",
    "    print(\"Loop:\", itervar, smallest)\n",
    "print(\"smallest:\", smallest)"
   ]
  },
  {
   "cell_type": "code",
   "execution_count": null,
   "id": "133b61f8",
   "metadata": {},
   "outputs": [],
   "source": []
  }
 ],
 "metadata": {
  "kernelspec": {
   "display_name": "Python 3",
   "language": "python",
   "name": "python3"
  },
  "language_info": {
   "codemirror_mode": {
    "name": "ipython",
    "version": 3
   },
   "file_extension": ".py",
   "mimetype": "text/x-python",
   "name": "python",
   "nbconvert_exporter": "python",
   "pygments_lexer": "ipython3",
   "version": "3.8.8"
  }
 },
 "nbformat": 4,
 "nbformat_minor": 5
}
